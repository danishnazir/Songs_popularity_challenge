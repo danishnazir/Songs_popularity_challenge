{
  "nbformat": 4,
  "nbformat_minor": 0,
  "metadata": {
    "colab": {
      "name": "Songs_popularity_challenge.ipynb",
      "provenance": [],
      "include_colab_link": true
    },
    "kernelspec": {
      "name": "python3",
      "display_name": "Python 3"
    }
  },
  "cells": [
    {
      "cell_type": "markdown",
      "metadata": {
        "id": "view-in-github",
        "colab_type": "text"
      },
      "source": [
        "<a href=\"https://colab.research.google.com/github/danishnazir/Songs_popularity_challenge/blob/master/Songs_popularity_challenge.ipynb\" target=\"_parent\"><img src=\"https://colab.research.google.com/assets/colab-badge.svg\" alt=\"Open In Colab\"/></a>"
      ]
    },
    {
      "cell_type": "code",
      "metadata": {
        "id": "wiDJq_yjxAm5",
        "colab_type": "code",
        "colab": {
          "base_uri": "https://localhost:8080/",
          "height": 122
        },
        "outputId": "c5b4a628-4425-45b1-8ebf-954b6a4d615b"
      },
      "source": [
        "from google.colab import drive\n",
        "drive.mount('/content/drive')"
      ],
      "execution_count": 1,
      "outputs": [
        {
          "output_type": "stream",
          "text": [
            "Go to this URL in a browser: https://accounts.google.com/o/oauth2/auth?client_id=947318989803-6bn6qk8qdgf4n4g3pfee6491hc0brc4i.apps.googleusercontent.com&redirect_uri=urn%3aietf%3awg%3aoauth%3a2.0%3aoob&response_type=code&scope=email%20https%3a%2f%2fwww.googleapis.com%2fauth%2fdocs.test%20https%3a%2f%2fwww.googleapis.com%2fauth%2fdrive%20https%3a%2f%2fwww.googleapis.com%2fauth%2fdrive.photos.readonly%20https%3a%2f%2fwww.googleapis.com%2fauth%2fpeopleapi.readonly\n",
            "\n",
            "Enter your authorization code:\n",
            "··········\n",
            "Mounted at /content/drive\n"
          ],
          "name": "stdout"
        }
      ]
    },
    {
      "cell_type": "code",
      "metadata": {
        "id": "X3mqzFc7x6qT",
        "colab_type": "code",
        "colab": {
          "base_uri": "https://localhost:8080/",
          "height": 34
        },
        "outputId": "bbf62f7f-aae0-43db-91cf-87014a3e7678"
      },
      "source": [
        "%cd '/content/drive/My Drive/ChartbustersParticipantsData'"
      ],
      "execution_count": 2,
      "outputs": [
        {
          "output_type": "stream",
          "text": [
            "/content/drive/My Drive/ChartbustersParticipantsData\n"
          ],
          "name": "stdout"
        }
      ]
    },
    {
      "cell_type": "code",
      "metadata": {
        "id": "F8NlG_M8yRE9",
        "colab_type": "code",
        "colab": {
          "base_uri": "https://localhost:8080/",
          "height": 462
        },
        "outputId": "06bbcf0a-4506-4328-e3c9-6b339eea51a4"
      },
      "source": [
        "import pandas as pd\n",
        "training_data=pd.read_csv('Data_Train.csv')\n",
        "training_data.head()"
      ],
      "execution_count": 6,
      "outputs": [
        {
          "output_type": "execute_result",
          "data": {
            "text/html": [
              "<div>\n",
              "<style scoped>\n",
              "    .dataframe tbody tr th:only-of-type {\n",
              "        vertical-align: middle;\n",
              "    }\n",
              "\n",
              "    .dataframe tbody tr th {\n",
              "        vertical-align: top;\n",
              "    }\n",
              "\n",
              "    .dataframe thead th {\n",
              "        text-align: right;\n",
              "    }\n",
              "</style>\n",
              "<table border=\"1\" class=\"dataframe\">\n",
              "  <thead>\n",
              "    <tr style=\"text-align: right;\">\n",
              "      <th></th>\n",
              "      <th>Unique_ID</th>\n",
              "      <th>Name</th>\n",
              "      <th>Genre</th>\n",
              "      <th>Country</th>\n",
              "      <th>Song_Name</th>\n",
              "      <th>Timestamp</th>\n",
              "      <th>Views</th>\n",
              "      <th>Comments</th>\n",
              "      <th>Likes</th>\n",
              "      <th>Popularity</th>\n",
              "      <th>Followers</th>\n",
              "    </tr>\n",
              "  </thead>\n",
              "  <tbody>\n",
              "    <tr>\n",
              "      <th>0</th>\n",
              "      <td>413890</td>\n",
              "      <td>Hardstyle</td>\n",
              "      <td>danceedm</td>\n",
              "      <td>AU</td>\n",
              "      <td>N-Vitral presents BOMBSQUAD - Poison Spitter (...</td>\n",
              "      <td>2018-03-30 15:24:45.000000</td>\n",
              "      <td>14017</td>\n",
              "      <td>4</td>\n",
              "      <td>499</td>\n",
              "      <td>97</td>\n",
              "      <td>119563</td>\n",
              "    </tr>\n",
              "    <tr>\n",
              "      <th>1</th>\n",
              "      <td>249453</td>\n",
              "      <td>Dj Aladdin</td>\n",
              "      <td>danceedm</td>\n",
              "      <td>AU</td>\n",
              "      <td>Dj Aladdin - Old School Hip Hop Quick Mix</td>\n",
              "      <td>2016-06-20 05:58:52.000000</td>\n",
              "      <td>1918</td>\n",
              "      <td>17</td>\n",
              "      <td>49</td>\n",
              "      <td>17</td>\n",
              "      <td>2141</td>\n",
              "    </tr>\n",
              "    <tr>\n",
              "      <th>2</th>\n",
              "      <td>681116</td>\n",
              "      <td>Maxximize On Air</td>\n",
              "      <td>danceedm</td>\n",
              "      <td>AU</td>\n",
              "      <td>Maxximize On Air - Mixed by Blasterjaxx - Epis...</td>\n",
              "      <td>2015-05-08 17:45:59.000000</td>\n",
              "      <td>9668</td>\n",
              "      <td>11</td>\n",
              "      <td>312</td>\n",
              "      <td>91</td>\n",
              "      <td>22248</td>\n",
              "    </tr>\n",
              "    <tr>\n",
              "      <th>3</th>\n",
              "      <td>387253</td>\n",
              "      <td>GR6 EXPLODE</td>\n",
              "      <td>rbsoul</td>\n",
              "      <td>AU</td>\n",
              "      <td>MC Yago - Tenho Compromisso (DJ R7)</td>\n",
              "      <td>2017-06-08 23:50:03.000000</td>\n",
              "      <td>113036</td>\n",
              "      <td>2</td>\n",
              "      <td>2,400</td>\n",
              "      <td>76</td>\n",
              "      <td>393655</td>\n",
              "    </tr>\n",
              "    <tr>\n",
              "      <th>4</th>\n",
              "      <td>1428029</td>\n",
              "      <td>Tritonal</td>\n",
              "      <td>danceedm</td>\n",
              "      <td>AU</td>\n",
              "      <td>Escape (feat. Steph Jones)</td>\n",
              "      <td>2016-09-17 20:50:19.000000</td>\n",
              "      <td>110024</td>\n",
              "      <td>81</td>\n",
              "      <td>3,031</td>\n",
              "      <td>699</td>\n",
              "      <td>201030</td>\n",
              "    </tr>\n",
              "  </tbody>\n",
              "</table>\n",
              "</div>"
            ],
            "text/plain": [
              "   Unique_ID              Name     Genre  ...  Likes Popularity Followers\n",
              "0     413890         Hardstyle  danceedm  ...    499         97    119563\n",
              "1     249453        Dj Aladdin  danceedm  ...     49         17      2141\n",
              "2     681116  Maxximize On Air  danceedm  ...    312         91     22248\n",
              "3     387253       GR6 EXPLODE    rbsoul  ...  2,400         76    393655\n",
              "4    1428029          Tritonal  danceedm  ...  3,031        699    201030\n",
              "\n",
              "[5 rows x 11 columns]"
            ]
          },
          "metadata": {
            "tags": []
          },
          "execution_count": 6
        }
      ]
    },
    {
      "cell_type": "code",
      "metadata": {
        "id": "epydjTodyW5C",
        "colab_type": "code",
        "colab": {
          "base_uri": "https://localhost:8080/",
          "height": 296
        },
        "outputId": "e7f34d90-e60d-416a-8090-f68b4cca342e"
      },
      "source": [
        "#checking the number of unique countaries in our data set\n",
        "training_data['Country'].nunique()\n",
        "#checking the number of unique Genres in our data set\n",
        "training_data['Genre'].nunique()\n",
        "#Checking which genre of songs have more popularity than others\n",
        "t=training_data.groupby('Genre')[('Popularity')].count()\n",
        "#plotting the genre againt popularity\n",
        "t.plot(x='Genre',y='Popularity')\n"
      ],
      "execution_count": 29,
      "outputs": [
        {
          "output_type": "execute_result",
          "data": {
            "text/plain": [
              "<matplotlib.axes._subplots.AxesSubplot at 0x7fd3c2acac50>"
            ]
          },
          "metadata": {
            "tags": []
          },
          "execution_count": 29
        },
        {
          "output_type": "display_data",
          "data": {
            "image/png": "[encoded data removed]",
            "text/plain": [
              "<Figure size 432x288 with 1 Axes>"
            ]
          },
          "metadata": {
            "tags": []
          }
        }
      ]
    },
    {
      "cell_type": "code",
      "metadata": {
        "id": "u5essfk4zgPi",
        "colab_type": "code",
        "colab": {}
      },
      "source": [
        ""
      ],
      "execution_count": 0,
      "outputs": []
    }
  ]
}